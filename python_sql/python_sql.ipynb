{
 "cells": [
  {
   "cell_type": "code",
   "execution_count": 1,
   "id": "d944c4ac-3f88-405b-96aa-709d2fc81893",
   "metadata": {},
   "outputs": [],
   "source": [
    "import sqlite3\n",
    "import pandas as pd"
   ]
  },
  {
   "cell_type": "code",
   "execution_count": 10,
   "id": "4016fcc5-7ea6-41be-a28a-ca08dbc9e278",
   "metadata": {},
   "outputs": [
    {
     "name": "stderr",
     "output_type": "stream",
     "text": [
      "/var/folders/wm/r88x234s74db86mtqppjmvq00000gn/T/ipykernel_36598/3417453225.py:4: DtypeWarning: Columns (22) have mixed types. Specify dtype option on import or set low_memory=False.\n",
      "  ontime = pd.concat([ontime, pd.read_csv(name, encoding='latin-1')])\n"
     ]
    }
   ],
   "source": [
    "ontime = pd.read_csv(\"/Users/levbarbash/LondonProg/Assignment3/2000.csv\")\n",
    "for year in range(2001, 2006):\n",
    "    name = \"/Users/levbarbash/LondonProg/Assignment3/\" + str(year) + \".csv\"\n",
    "    ontime = pd.concat([ontime, pd.read_csv(name)])\n",
    "airports = pd.read_csv(\"/Users/levbarbash/LondonProg/Assignment3/airports.csv\")\n",
    "carriers = pd.read_csv(\"/Users/levbarbash/LondonProg/Assignment3/carriers.csv\")\n",
    "planes = pd.read_csv(\"/Users/levbarbash/LondonProg/Assignment3/plane-data.csv\")\n",
    "conn = sqlite3.connect('/Users/levbarbash/LondonProg/Assignment3/airline2.db')\n",
    "ontime.to_sql('ontime', con = conn, index = False) \n",
    "airports.to_sql('airports', con = conn, index = False) \n",
    "carriers.to_sql('carriers', con = conn, index = False)\n",
    "planes.to_sql('planes', con = conn, index = False)\n",
    "conn.close()"
   ]
  },
  {
   "cell_type": "code",
   "execution_count": 18,
   "id": "108592d2-162d-4eec-a87d-3531d80cd649",
   "metadata": {},
   "outputs": [],
   "source": [
    "def execute_sql_query(query):\n",
    "    conn = sqlite3.connect('/Users/levbarbash/LondonProg/Assignment3/airline2.db')\n",
    "    q_planes = conn.execute(query).fetchall()\n",
    "    conn.close()\n",
    "    return pd.DataFrame(q_planes)"
   ]
  },
  {
   "cell_type": "markdown",
   "id": "a5849ee3-5855-4955-a9dc-051f639a0e63",
   "metadata": {},
   "source": [
    "Planes with lowest average departure delay"
   ]
  },
  {
   "cell_type": "code",
   "execution_count": 19,
   "id": "7f3e87df-7810-4aff-b799-3cb6c9221f68",
   "metadata": {},
   "outputs": [
    {
     "data": {
      "text/html": [
       "<div>\n",
       "<style scoped>\n",
       "    .dataframe tbody tr th:only-of-type {\n",
       "        vertical-align: middle;\n",
       "    }\n",
       "\n",
       "    .dataframe tbody tr th {\n",
       "        vertical-align: top;\n",
       "    }\n",
       "\n",
       "    .dataframe thead th {\n",
       "        text-align: right;\n",
       "    }\n",
       "</style>\n",
       "<table border=\"1\" class=\"dataframe\">\n",
       "  <thead>\n",
       "    <tr style=\"text-align: right;\">\n",
       "      <th></th>\n",
       "      <th>0</th>\n",
       "      <th>1</th>\n",
       "    </tr>\n",
       "  </thead>\n",
       "  <tbody>\n",
       "    <tr>\n",
       "      <th>0</th>\n",
       "      <td>737-2Y5</td>\n",
       "      <td>7.022026</td>\n",
       "    </tr>\n",
       "    <tr>\n",
       "      <th>1</th>\n",
       "      <td>737-282</td>\n",
       "      <td>8.433566</td>\n",
       "    </tr>\n",
       "    <tr>\n",
       "      <th>2</th>\n",
       "      <td>737-230</td>\n",
       "      <td>10.458647</td>\n",
       "    </tr>\n",
       "    <tr>\n",
       "      <th>3</th>\n",
       "      <td>737-282C</td>\n",
       "      <td>11.765766</td>\n",
       "    </tr>\n",
       "    <tr>\n",
       "      <th>4</th>\n",
       "      <td>767-324</td>\n",
       "      <td>15.788051</td>\n",
       "    </tr>\n",
       "    <tr>\n",
       "      <th>...</th>\n",
       "      <td>...</td>\n",
       "      <td>...</td>\n",
       "    </tr>\n",
       "    <tr>\n",
       "      <th>141</th>\n",
       "      <td>ATR 72-212</td>\n",
       "      <td>38.267365</td>\n",
       "    </tr>\n",
       "    <tr>\n",
       "      <th>142</th>\n",
       "      <td>ATR-72-212</td>\n",
       "      <td>38.699195</td>\n",
       "    </tr>\n",
       "    <tr>\n",
       "      <th>143</th>\n",
       "      <td>717-200</td>\n",
       "      <td>38.737105</td>\n",
       "    </tr>\n",
       "    <tr>\n",
       "      <th>144</th>\n",
       "      <td>ERJ 190-100 IGW</td>\n",
       "      <td>41.723958</td>\n",
       "    </tr>\n",
       "    <tr>\n",
       "      <th>145</th>\n",
       "      <td>A330-223</td>\n",
       "      <td>55.800000</td>\n",
       "    </tr>\n",
       "  </tbody>\n",
       "</table>\n",
       "<p>146 rows × 2 columns</p>\n",
       "</div>"
      ],
      "text/plain": [
       "                   0          1\n",
       "0            737-2Y5   7.022026\n",
       "1            737-282   8.433566\n",
       "2            737-230  10.458647\n",
       "3           737-282C  11.765766\n",
       "4            767-324  15.788051\n",
       "..               ...        ...\n",
       "141       ATR 72-212  38.267365\n",
       "142       ATR-72-212  38.699195\n",
       "143          717-200  38.737105\n",
       "144  ERJ 190-100 IGW  41.723958\n",
       "145         A330-223  55.800000\n",
       "\n",
       "[146 rows x 2 columns]"
      ]
     },
     "execution_count": 19,
     "metadata": {},
     "output_type": "execute_result"
    }
   ],
   "source": [
    "execute_sql_query('''\n",
    "SELECT model AS model, AVG(ontime.DepDelay) AS avg_delay\n",
    "FROM planes JOIN ontime USING(tailnum)\n",
    "WHERE ontime.Cancelled = 0 AND ontime.Diverted = 0 AND ontime.DepDelay > 0\n",
    "GROUP BY model\n",
    "ORDER BY avg_delay''')"
   ]
  },
  {
   "cell_type": "markdown",
   "id": "ff35b78a-5b81-4b3e-88e0-4059e33f14dc",
   "metadata": {},
   "source": [
    "Cities with the highest number of inbound flights"
   ]
  },
  {
   "cell_type": "code",
   "execution_count": 20,
   "id": "ba786d44-9617-44e1-ada4-1f077e3e6e5a",
   "metadata": {},
   "outputs": [
    {
     "data": {
      "text/html": [
       "<div>\n",
       "<style scoped>\n",
       "    .dataframe tbody tr th:only-of-type {\n",
       "        vertical-align: middle;\n",
       "    }\n",
       "\n",
       "    .dataframe tbody tr th {\n",
       "        vertical-align: top;\n",
       "    }\n",
       "\n",
       "    .dataframe thead th {\n",
       "        text-align: right;\n",
       "    }\n",
       "</style>\n",
       "<table border=\"1\" class=\"dataframe\">\n",
       "  <thead>\n",
       "    <tr style=\"text-align: right;\">\n",
       "      <th></th>\n",
       "      <th>0</th>\n",
       "      <th>1</th>\n",
       "    </tr>\n",
       "  </thead>\n",
       "  <tbody>\n",
       "    <tr>\n",
       "      <th>0</th>\n",
       "      <td>Chicago</td>\n",
       "      <td>2388365</td>\n",
       "    </tr>\n",
       "    <tr>\n",
       "      <th>1</th>\n",
       "      <td>Atlanta</td>\n",
       "      <td>1912370</td>\n",
       "    </tr>\n",
       "    <tr>\n",
       "      <th>2</th>\n",
       "      <td>Dallas-Fort Worth</td>\n",
       "      <td>1781833</td>\n",
       "    </tr>\n",
       "    <tr>\n",
       "      <th>3</th>\n",
       "      <td>Houston</td>\n",
       "      <td>1304407</td>\n",
       "    </tr>\n",
       "    <tr>\n",
       "      <th>4</th>\n",
       "      <td>Los Angeles</td>\n",
       "      <td>1279514</td>\n",
       "    </tr>\n",
       "    <tr>\n",
       "      <th>...</th>\n",
       "      <td>...</td>\n",
       "      <td>...</td>\n",
       "    </tr>\n",
       "    <tr>\n",
       "      <th>282</th>\n",
       "      <td>Provo</td>\n",
       "      <td>3</td>\n",
       "    </tr>\n",
       "    <tr>\n",
       "      <th>283</th>\n",
       "      <td>Cheyenne</td>\n",
       "      <td>2</td>\n",
       "    </tr>\n",
       "    <tr>\n",
       "      <th>284</th>\n",
       "      <td>Scottsbluff</td>\n",
       "      <td>1</td>\n",
       "    </tr>\n",
       "    <tr>\n",
       "      <th>285</th>\n",
       "      <td>Roswell</td>\n",
       "      <td>1</td>\n",
       "    </tr>\n",
       "    <tr>\n",
       "      <th>286</th>\n",
       "      <td>Laramie</td>\n",
       "      <td>1</td>\n",
       "    </tr>\n",
       "  </tbody>\n",
       "</table>\n",
       "<p>287 rows × 2 columns</p>\n",
       "</div>"
      ],
      "text/plain": [
       "                     0        1\n",
       "0              Chicago  2388365\n",
       "1              Atlanta  1912370\n",
       "2    Dallas-Fort Worth  1781833\n",
       "3              Houston  1304407\n",
       "4          Los Angeles  1279514\n",
       "..                 ...      ...\n",
       "282              Provo        3\n",
       "283           Cheyenne        2\n",
       "284        Scottsbluff        1\n",
       "285            Roswell        1\n",
       "286            Laramie        1\n",
       "\n",
       "[287 rows x 2 columns]"
      ]
     },
     "execution_count": 20,
     "metadata": {},
     "output_type": "execute_result"
    }
   ],
   "source": [
    "execute_sql_query('''\n",
    "SELECT airports.city AS city, COUNT(*) AS total\n",
    "FROM airports JOIN ontime ON ontime.dest = airports.iata\n",
    "WHERE ontime.Cancelled = 0\n",
    "GROUP BY airports.city\n",
    "ORDER BY total DESC''')"
   ]
  },
  {
   "cell_type": "markdown",
   "id": "ac0b739f-24ef-493f-b7d9-62e451258a0b",
   "metadata": {},
   "source": [
    "Сompanies with the highest number of cancelled flights"
   ]
  },
  {
   "cell_type": "code",
   "execution_count": 21,
   "id": "6784161d-e79d-44a7-a0c4-3f53ea926f63",
   "metadata": {},
   "outputs": [
    {
     "data": {
      "text/html": [
       "<div>\n",
       "<style scoped>\n",
       "    .dataframe tbody tr th:only-of-type {\n",
       "        vertical-align: middle;\n",
       "    }\n",
       "\n",
       "    .dataframe tbody tr th {\n",
       "        vertical-align: top;\n",
       "    }\n",
       "\n",
       "    .dataframe thead th {\n",
       "        text-align: right;\n",
       "    }\n",
       "</style>\n",
       "<table border=\"1\" class=\"dataframe\">\n",
       "  <thead>\n",
       "    <tr style=\"text-align: right;\">\n",
       "      <th></th>\n",
       "      <th>0</th>\n",
       "      <th>1</th>\n",
       "    </tr>\n",
       "  </thead>\n",
       "  <tbody>\n",
       "    <tr>\n",
       "      <th>0</th>\n",
       "      <td>Delta Air Lines Inc.</td>\n",
       "      <td>107851</td>\n",
       "    </tr>\n",
       "    <tr>\n",
       "      <th>1</th>\n",
       "      <td>American Airlines Inc.</td>\n",
       "      <td>105762</td>\n",
       "    </tr>\n",
       "    <tr>\n",
       "      <th>2</th>\n",
       "      <td>United Air Lines Inc.</td>\n",
       "      <td>102066</td>\n",
       "    </tr>\n",
       "  </tbody>\n",
       "</table>\n",
       "</div>"
      ],
      "text/plain": [
       "                        0       1\n",
       "0    Delta Air Lines Inc.  107851\n",
       "1  American Airlines Inc.  105762\n",
       "2   United Air Lines Inc.  102066"
      ]
     },
     "execution_count": 21,
     "metadata": {},
     "output_type": "execute_result"
    }
   ],
   "source": [
    "execute_sql_query('''\n",
    "SELECT carriers.Description AS carrier, COUNT(*) AS total\n",
    "FROM carriers JOIN ontime ON ontime.UniqueCarrier = carriers.Code\n",
    "WHERE ontime.Cancelled = 1\n",
    "    AND carriers.Description IN ('United Air Lines Inc.', 'American Airlines Inc.', 'Pinnacle Airlines Inc.', 'Delta Air Lines Inc.')\n",
    "GROUP BY carriers.Description\n",
    "ORDER BY total DESC''')"
   ]
  },
  {
   "cell_type": "markdown",
   "id": "8db17da2-48cd-45a1-b4b9-66bc477e9000",
   "metadata": {},
   "source": [
    "Companies with the highest number of cancelled flights, relative to their number of total flights"
   ]
  },
  {
   "cell_type": "code",
   "execution_count": 22,
   "id": "8c704cda-b26f-47ff-8b56-8d060d159024",
   "metadata": {},
   "outputs": [
    {
     "data": {
      "text/html": [
       "<div>\n",
       "<style scoped>\n",
       "    .dataframe tbody tr th:only-of-type {\n",
       "        vertical-align: middle;\n",
       "    }\n",
       "\n",
       "    .dataframe tbody tr th {\n",
       "        vertical-align: top;\n",
       "    }\n",
       "\n",
       "    .dataframe thead th {\n",
       "        text-align: right;\n",
       "    }\n",
       "</style>\n",
       "<table border=\"1\" class=\"dataframe\">\n",
       "  <thead>\n",
       "    <tr style=\"text-align: right;\">\n",
       "      <th></th>\n",
       "      <th>0</th>\n",
       "      <th>1</th>\n",
       "    </tr>\n",
       "  </thead>\n",
       "  <tbody>\n",
       "    <tr>\n",
       "      <th>0</th>\n",
       "      <td>United Air Lines Inc.</td>\n",
       "      <td>0.027924</td>\n",
       "    </tr>\n",
       "    <tr>\n",
       "      <th>1</th>\n",
       "      <td>Delta Air Lines Inc.</td>\n",
       "      <td>0.024082</td>\n",
       "    </tr>\n",
       "    <tr>\n",
       "      <th>2</th>\n",
       "      <td>American Airlines Inc.</td>\n",
       "      <td>0.023841</td>\n",
       "    </tr>\n",
       "  </tbody>\n",
       "</table>\n",
       "</div>"
      ],
      "text/plain": [
       "                        0         1\n",
       "0   United Air Lines Inc.  0.027924\n",
       "1    Delta Air Lines Inc.  0.024082\n",
       "2  American Airlines Inc.  0.023841"
      ]
     },
     "execution_count": 22,
     "metadata": {},
     "output_type": "execute_result"
    }
   ],
   "source": [
    "execute_sql_query('''\n",
    "SELECT\n",
    "    q1.carrier AS carrier, (CAST(q1.numerator AS FLOAT)/ CAST(q2.denominator AS FLOAT)) AS ratio\n",
    "FROM\n",
    "(\n",
    "SELECT carriers.Description AS carrier, COUNT(*) AS numerator\n",
    "FROM carriers JOIN ontime ON ontime.UniqueCarrier = carriers.Code\n",
    "WHERE ontime.Cancelled = 1 AND carriers.Description IN ('United Air Lines Inc.', 'American Airlines Inc.', 'Pinnacle Airlines Inc.', 'Delta Air Lines Inc.')\n",
    "GROUP BY carriers.Description\n",
    ") AS q1 JOIN\n",
    "(\n",
    "SELECT carriers.Description AS carrier, COUNT(*) AS denominator\n",
    "FROM carriers JOIN ontime ON ontime.UniqueCarrier = carriers.Code\n",
    "WHERE carriers.Description IN ('United Air Lines Inc.', 'American Airlines Inc.', 'Pinnacle Airlines Inc.', 'Delta Air Lines Inc.')\n",
    "GROUP BY carriers.Description\n",
    ") AS q2 USING(carrier)\n",
    "ORDER BY ratio DESC''')"
   ]
  }
 ],
 "metadata": {
  "kernelspec": {
   "display_name": "Python 3 (ipykernel)",
   "language": "python",
   "name": "python3"
  },
  "language_info": {
   "codemirror_mode": {
    "name": "ipython",
    "version": 3
   },
   "file_extension": ".py",
   "mimetype": "text/x-python",
   "name": "python",
   "nbconvert_exporter": "python",
   "pygments_lexer": "ipython3",
   "version": "3.9.7"
  }
 },
 "nbformat": 4,
 "nbformat_minor": 5
}
