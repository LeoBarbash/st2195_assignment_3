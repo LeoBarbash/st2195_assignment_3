{
 "cells": [
  {
   "cell_type": "code",
   "execution_count": 1,
   "id": "450d8e59-dcca-40bf-9d92-a2f2d4b672b9",
   "metadata": {},
   "outputs": [],
   "source": [
    "import sqlite3\n",
    "import pandas as pd"
   ]
  },
  {
   "cell_type": "code",
   "execution_count": 2,
   "id": "78c2070a-1540-471a-b04f-648330231134",
   "metadata": {},
   "outputs": [],
   "source": [
    "def execute_sql_query(query):\n",
    "    conn = sqlite3.connect('/Users/levbarbash/LondonProg/Assignment3/airline2.db')\n",
    "    q_planes = conn.execute(query).fetchall()\n",
    "    conn.close()\n",
    "    return pd.DataFrame(q_planes)"
   ]
  },
  {
   "cell_type": "code",
   "execution_count": 7,
   "id": "02eccfb3-f89b-42c8-8226-48ad82dd2c43",
   "metadata": {},
   "outputs": [
    {
     "data": {
      "text/html": [
       "<div>\n",
       "<style scoped>\n",
       "    .dataframe tbody tr th:only-of-type {\n",
       "        vertical-align: middle;\n",
       "    }\n",
       "\n",
       "    .dataframe tbody tr th {\n",
       "        vertical-align: top;\n",
       "    }\n",
       "\n",
       "    .dataframe thead th {\n",
       "        text-align: right;\n",
       "    }\n",
       "</style>\n",
       "<table border=\"1\" class=\"dataframe\">\n",
       "  <thead>\n",
       "    <tr style=\"text-align: right;\">\n",
       "      <th></th>\n",
       "      <th>0</th>\n",
       "      <th>1</th>\n",
       "    </tr>\n",
       "  </thead>\n",
       "  <tbody>\n",
       "    <tr>\n",
       "      <th>0</th>\n",
       "      <td>United Air Lines Inc.</td>\n",
       "      <td>0.027924</td>\n",
       "    </tr>\n",
       "    <tr>\n",
       "      <th>1</th>\n",
       "      <td>Delta Air Lines Inc.</td>\n",
       "      <td>0.024082</td>\n",
       "    </tr>\n",
       "    <tr>\n",
       "      <th>2</th>\n",
       "      <td>American Airlines Inc.</td>\n",
       "      <td>0.023841</td>\n",
       "    </tr>\n",
       "  </tbody>\n",
       "</table>\n",
       "</div>"
      ],
      "text/plain": [
       "                        0         1\n",
       "0   United Air Lines Inc.  0.027924\n",
       "1    Delta Air Lines Inc.  0.024082\n",
       "2  American Airlines Inc.  0.023841"
      ]
     },
     "execution_count": 7,
     "metadata": {},
     "output_type": "execute_result"
    }
   ],
   "source": [
    "execute_sql_query('''\n",
    "SELECT carriers.Description AS carrier, \n",
    "    CAST(COUNT(CASE WHEN ontime.Cancelled = 1 THEN 1 END) AS float) / CAST(COUNT(*) AS FLOAT) AS ratio\n",
    "FROM carriers\n",
    "JOIN ontime ON ontime.UniqueCarrier = carriers.Code\n",
    "WHERE carriers.Description IN ('United Air Lines Inc.', 'American Airlines Inc.', 'Pinnacle Airlines Inc.', 'Delta Air Lines Inc.')\n",
    "GROUP BY carriers.Description\n",
    "ORDER BY ratio DESC''')"
   ]
  },
  {
   "cell_type": "code",
   "execution_count": null,
   "id": "5b2e6d2b-1535-4541-966b-c1488ca16787",
   "metadata": {},
   "outputs": [],
   "source": []
  }
 ],
 "metadata": {
  "kernelspec": {
   "display_name": "Python 3 (ipykernel)",
   "language": "python",
   "name": "python3"
  },
  "language_info": {
   "codemirror_mode": {
    "name": "ipython",
    "version": 3
   },
   "file_extension": ".py",
   "mimetype": "text/x-python",
   "name": "python",
   "nbconvert_exporter": "python",
   "pygments_lexer": "ipython3",
   "version": "3.9.7"
  }
 },
 "nbformat": 4,
 "nbformat_minor": 5
}
